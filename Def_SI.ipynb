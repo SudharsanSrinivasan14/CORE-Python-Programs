{
  "nbformat": 4,
  "nbformat_minor": 0,
  "metadata": {
    "colab": {
      "provenance": [],
      "authorship_tag": "ABX9TyNmkFGv6L+WVtUdZBHySZ3C",
      "include_colab_link": true
    },
    "kernelspec": {
      "name": "python3",
      "display_name": "Python 3"
    },
    "language_info": {
      "name": "python"
    }
  },
  "cells": [
    {
      "cell_type": "markdown",
      "metadata": {
        "id": "view-in-github",
        "colab_type": "text"
      },
      "source": [
        "<a href=\"https://colab.research.google.com/github/SudharsanSrinivasan14/CORE-Python-Programs/blob/main/Def_SI.ipynb\" target=\"_parent\"><img src=\"https://colab.research.google.com/assets/colab-badge.svg\" alt=\"Open In Colab\"/></a>"
      ]
    },
    {
      "cell_type": "code",
      "execution_count": 2,
      "metadata": {
        "colab": {
          "base_uri": "https://localhost:8080/"
        },
        "id": "Au_jE624ZR1f",
        "outputId": "6f98dcf3-f839-4245-d95d-33317b0c1aec"
      },
      "outputs": [
        {
          "output_type": "stream",
          "name": "stdout",
          "text": [
            "Enter a P : 100\n",
            "Enter a N : 50\n",
            "Enter a R : 25\n",
            "1250.0\n"
          ]
        }
      ],
      "source": [
        "# Def. SI\n",
        "def si (p,n,r):\n",
        "    si = (p*n*r)/100\n",
        "    print(si)\n",
        "p = int(input(\"Enter a P : \"))\n",
        "n = int(input(\"Enter a N : \"))\n",
        "r = int(input(\"Enter a R : \"))\n",
        "si(p,n,r)"
      ]
    }
  ]
}