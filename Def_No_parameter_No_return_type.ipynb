{
  "nbformat": 4,
  "nbformat_minor": 0,
  "metadata": {
    "colab": {
      "provenance": [],
      "authorship_tag": "ABX9TyMDnThPCeUanQcjUHqQJUMM",
      "include_colab_link": true
    },
    "kernelspec": {
      "name": "python3",
      "display_name": "Python 3"
    },
    "language_info": {
      "name": "python"
    }
  },
  "cells": [
    {
      "cell_type": "markdown",
      "metadata": {
        "id": "view-in-github",
        "colab_type": "text"
      },
      "source": [
        "<a href=\"https://colab.research.google.com/github/SudharsanSrinivasan14/CORE-Python-Programs/blob/main/Def_No_parameter_No_return_type.ipynb\" target=\"_parent\"><img src=\"https://colab.research.google.com/assets/colab-badge.svg\" alt=\"Open In Colab\"/></a>"
      ]
    },
    {
      "cell_type": "code",
      "execution_count": null,
      "metadata": {
        "colab": {
          "base_uri": "https://localhost:8080/"
        },
        "id": "9A2sA085aHcX",
        "outputId": "5f40c3c7-74e0-4e7b-c174-a4f992483f81"
      },
      "outputs": [
        {
          "output_type": "stream",
          "name": "stdout",
          "text": [
            "a value 12\n",
            "b value 14\n",
            "the addition is  26\n"
          ]
        }
      ],
      "source": [
        "# No parameter No return type\n",
        "def add():\n",
        "    a=int(input('a value '))\n",
        "    b=int(input('b value '))\n",
        "    c=a+b\n",
        "    print('the addition is ',c)\n",
        "#main process\n",
        "add()"
      ]
    }
  ]
}