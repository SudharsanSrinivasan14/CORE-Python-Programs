{
  "nbformat": 4,
  "nbformat_minor": 0,
  "metadata": {
    "colab": {
      "provenance": [],
      "authorship_tag": "ABX9TyNPB1e5QZGuDnjWm0AIDom8",
      "include_colab_link": true
    },
    "kernelspec": {
      "name": "python3",
      "display_name": "Python 3"
    },
    "language_info": {
      "name": "python"
    }
  },
  "cells": [
    {
      "cell_type": "markdown",
      "metadata": {
        "id": "view-in-github",
        "colab_type": "text"
      },
      "source": [
        "<a href=\"https://colab.research.google.com/github/SudharsanSrinivasan14/CORE-Python-Programs/blob/main/Def_Parameter_with_return_type.ipynb\" target=\"_parent\"><img src=\"https://colab.research.google.com/assets/colab-badge.svg\" alt=\"Open In Colab\"/></a>"
      ]
    },
    {
      "cell_type": "code",
      "execution_count": 1,
      "metadata": {
        "colab": {
          "base_uri": "https://localhost:8080/"
        },
        "id": "xEgailWKag0B",
        "outputId": "394aa6df-ff13-45e5-ca54-5d18808776f8"
      },
      "outputs": [
        {
          "output_type": "stream",
          "name": "stdout",
          "text": [
            "a value 10\n",
            "b value 5\n",
            "the division is 2.0\n"
          ]
        }
      ],
      "source": [
        "# Parameter with return type\n",
        "def div(i,j):\n",
        "    k=i/j\n",
        "    return(k)\n",
        "#main process\n",
        "a=int(input('a value '))\n",
        "b=int(input('b value '))\n",
        "c=div(a,b)\n",
        "print('the division is',c)"
      ]
    }
  ]
}