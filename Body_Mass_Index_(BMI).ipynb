{
  "nbformat": 4,
  "nbformat_minor": 0,
  "metadata": {
    "colab": {
      "provenance": [],
      "authorship_tag": "ABX9TyP92Kuah0pds4fOR9BGvjHp",
      "include_colab_link": true
    },
    "kernelspec": {
      "name": "python3",
      "display_name": "Python 3"
    },
    "language_info": {
      "name": "python"
    }
  },
  "cells": [
    {
      "cell_type": "markdown",
      "metadata": {
        "id": "view-in-github",
        "colab_type": "text"
      },
      "source": [
        "<a href=\"https://colab.research.google.com/github/SudharsanSrinivasan14/CORE-Python-Programs/blob/main/Body_Mass_Index_(BMI).ipynb\" target=\"_parent\"><img src=\"https://colab.research.google.com/assets/colab-badge.svg\" alt=\"Open In Colab\"/></a>"
      ]
    },
    {
      "cell_type": "code",
      "execution_count": 3,
      "metadata": {
        "colab": {
          "base_uri": "https://localhost:8080/"
        },
        "id": "HYk2c8MtK8bw",
        "outputId": "da1cf282-017e-4c54-fd62-f152f7b0672e"
      },
      "outputs": [
        {
          "output_type": "stream",
          "name": "stdout",
          "text": [
            "Enter your height in centimeters: 176\n",
            "Enter your Weight in Kg: 75\n",
            "your Body Mass Index is:  24.212293388429753\n",
            "you are Healthy\n"
          ]
        }
      ],
      "source": [
        "# Body Mass Index (BMI)\n",
        "Height=float(input(\"Enter your height in centimeters: \"))\n",
        "Weight=float(input(\"Enter your Weight in Kg: \"))\n",
        "Height = Height/100\n",
        "BMI=Weight/(Height*Height)\n",
        "print(\"your Body Mass Index is: \",BMI)\n",
        "if(BMI>0):\n",
        " if(BMI<=16):\n",
        "  print(\"you are severely underweight\")\n",
        " elif(BMI<=18.5):\n",
        "  print(\"you are underweight\")\n",
        " elif(BMI<=25):\n",
        "  print(\"you are Healthy\")\n",
        " elif(BMI<=30):\n",
        "  print(\"you are overweight\")\n",
        " else: print(\"you are severely overweight\")\n",
        "else:(\"enter valid details\")"
      ]
    }
  ]
}