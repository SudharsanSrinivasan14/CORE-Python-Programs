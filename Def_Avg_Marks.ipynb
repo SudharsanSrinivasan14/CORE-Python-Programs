{
  "nbformat": 4,
  "nbformat_minor": 0,
  "metadata": {
    "colab": {
      "provenance": [],
      "authorship_tag": "ABX9TyO6rlyvodP4pYHA6OqxW1wp",
      "include_colab_link": true
    },
    "kernelspec": {
      "name": "python3",
      "display_name": "Python 3"
    },
    "language_info": {
      "name": "python"
    }
  },
  "cells": [
    {
      "cell_type": "markdown",
      "metadata": {
        "id": "view-in-github",
        "colab_type": "text"
      },
      "source": [
        "<a href=\"https://colab.research.google.com/github/SudharsanSrinivasan14/CORE-Python-Programs/blob/main/Def_Avg_Marks.ipynb\" target=\"_parent\"><img src=\"https://colab.research.google.com/assets/colab-badge.svg\" alt=\"Open In Colab\"/></a>"
      ]
    },
    {
      "cell_type": "code",
      "execution_count": 1,
      "metadata": {
        "colab": {
          "base_uri": "https://localhost:8080/"
        },
        "id": "Luao1PeYWCbs",
        "outputId": "861c2dd7-bef5-4e62-b5e0-39d182386204"
      },
      "outputs": [
        {
          "output_type": "stream",
          "name": "stdout",
          "text": [
            "Give a Marks : 96\n",
            "Give a Marks : 87\n",
            "Give a Marks : 90\n",
            "80.75\n"
          ]
        }
      ],
      "source": [
        "# Def . Avg Marks :\n",
        "def marks(a,b,c,d=50):\n",
        "    avg=(a+b+c+d)/4\n",
        "    print(avg)\n",
        "a=int(input('Give a Marks : '))\n",
        "b=int(input('Give a Marks : '))\n",
        "c=int(input('Give a Marks : '))\n",
        "marks(a,b,c)"
      ]
    }
  ]
}