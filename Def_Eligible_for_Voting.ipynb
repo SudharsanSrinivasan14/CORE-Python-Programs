{
  "nbformat": 4,
  "nbformat_minor": 0,
  "metadata": {
    "colab": {
      "provenance": [],
      "authorship_tag": "ABX9TyOvVjt3qUjeWmPn0ut8jmYL",
      "include_colab_link": true
    },
    "kernelspec": {
      "name": "python3",
      "display_name": "Python 3"
    },
    "language_info": {
      "name": "python"
    }
  },
  "cells": [
    {
      "cell_type": "markdown",
      "metadata": {
        "id": "view-in-github",
        "colab_type": "text"
      },
      "source": [
        "<a href=\"https://colab.research.google.com/github/SudharsanSrinivasan14/CORE-Python-Programs/blob/main/Def_Eligible_for_Voting.ipynb\" target=\"_parent\"><img src=\"https://colab.research.google.com/assets/colab-badge.svg\" alt=\"Open In Colab\"/></a>"
      ]
    },
    {
      "cell_type": "code",
      "execution_count": 2,
      "metadata": {
        "colab": {
          "base_uri": "https://localhost:8080/"
        },
        "id": "sgdrHo_1WCGt",
        "outputId": "1ec6b123-b53a-43a8-8e5b-a78794c0425d"
      },
      "outputs": [
        {
          "output_type": "stream",
          "name": "stdout",
          "text": [
            "Give Your Name : Sudharsan\n",
            "Give Your Age : 28\n",
            "Sudharsan You're Eligible\n"
          ]
        }
      ],
      "source": [
        "# Def . Eligible for Voting\n",
        "def voting (a):\n",
        "    if(a>=18):\n",
        "        print(name,\"You're Eligible\")\n",
        "    else:\n",
        "        print(name,\"You're uneligible\")\n",
        "name=str(input('Give Your Name : '))\n",
        "a=int(input('Give Your Age : '))\n",
        "voting (a)"
      ]
    }
  ]
}