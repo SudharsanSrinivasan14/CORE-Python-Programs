{
  "nbformat": 4,
  "nbformat_minor": 0,
  "metadata": {
    "colab": {
      "provenance": [],
      "authorship_tag": "ABX9TyMDirJ7PEoPsXWXem78GKWR",
      "include_colab_link": true
    },
    "kernelspec": {
      "name": "python3",
      "display_name": "Python 3"
    },
    "language_info": {
      "name": "python"
    }
  },
  "cells": [
    {
      "cell_type": "markdown",
      "metadata": {
        "id": "view-in-github",
        "colab_type": "text"
      },
      "source": [
        "<a href=\"https://colab.research.google.com/github/SudharsanSrinivasan14/CORE-Python-Programs/blob/main/Counting_Vowels_in_a_Given_Word.ipynb\" target=\"_parent\"><img src=\"https://colab.research.google.com/assets/colab-badge.svg\" alt=\"Open In Colab\"/></a>"
      ]
    },
    {
      "cell_type": "code",
      "execution_count": 1,
      "metadata": {
        "colab": {
          "base_uri": "https://localhost:8080/"
        },
        "id": "KeAiX9tYidJD",
        "outputId": "60a91682-b56d-4ef0-9f94-9cb36cd5901e"
      },
      "outputs": [
        {
          "output_type": "stream",
          "name": "stdout",
          "text": [
            "Give a word : Programming\n",
            "3\n"
          ]
        }
      ],
      "source": [
        "# Counting Vowels in a Given Word\n",
        "vowel = ['a', 'e', 'i', 'o', 'u']\n",
        "word = input('Give a word : ')\n",
        "count = 0\n",
        "for character in word:\n",
        "    if character in vowel:\n",
        "        count += 1\n",
        "print(count)"
      ]
    }
  ]
}