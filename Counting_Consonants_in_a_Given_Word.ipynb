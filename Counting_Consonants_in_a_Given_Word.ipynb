{
  "nbformat": 4,
  "nbformat_minor": 0,
  "metadata": {
    "colab": {
      "provenance": [],
      "authorship_tag": "ABX9TyML4GKD+eIGR/A1RULoCI9t",
      "include_colab_link": true
    },
    "kernelspec": {
      "name": "python3",
      "display_name": "Python 3"
    },
    "language_info": {
      "name": "python"
    }
  },
  "cells": [
    {
      "cell_type": "markdown",
      "metadata": {
        "id": "view-in-github",
        "colab_type": "text"
      },
      "source": [
        "<a href=\"https://colab.research.google.com/github/SudharsanSrinivasan14/CORE-Python-Programs/blob/main/Counting_Consonants_in_a_Given_Word.ipynb\" target=\"_parent\"><img src=\"https://colab.research.google.com/assets/colab-badge.svg\" alt=\"Open In Colab\"/></a>"
      ]
    },
    {
      "cell_type": "code",
      "execution_count": 1,
      "metadata": {
        "colab": {
          "base_uri": "https://localhost:8080/"
        },
        "id": "SXMi56Q-h7Fg",
        "outputId": "6e3eb182-b63f-4cd2-f6b0-0fc00be581f8"
      },
      "outputs": [
        {
          "output_type": "stream",
          "name": "stdout",
          "text": [
            "Give a word :Programming\n",
            "8\n"
          ]
        }
      ],
      "source": [
        "# Counting Consonants in a Given Word\n",
        "vowel = ['a', 'e', 'i', 'o', 'u']\n",
        "word = input ('Give a word :')\n",
        "count = 0\n",
        "for character in word:\n",
        "    if character not in vowel:\n",
        "        count += 1\n",
        "print(count)"
      ]
    }
  ]
}