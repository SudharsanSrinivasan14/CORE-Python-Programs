{
  "nbformat": 4,
  "nbformat_minor": 0,
  "metadata": {
    "colab": {
      "provenance": [],
      "authorship_tag": "ABX9TyOfqQUuLNUBRFajzVqPHyx8",
      "include_colab_link": true
    },
    "kernelspec": {
      "name": "python3",
      "display_name": "Python 3"
    },
    "language_info": {
      "name": "python"
    }
  },
  "cells": [
    {
      "cell_type": "markdown",
      "metadata": {
        "id": "view-in-github",
        "colab_type": "text"
      },
      "source": [
        "<a href=\"https://colab.research.google.com/github/SudharsanSrinivasan14/CORE-Python-Programs/blob/main/Def_Minimum_of_three_numbers.ipynb\" target=\"_parent\"><img src=\"https://colab.research.google.com/assets/colab-badge.svg\" alt=\"Open In Colab\"/></a>"
      ]
    },
    {
      "cell_type": "code",
      "execution_count": 1,
      "metadata": {
        "colab": {
          "base_uri": "https://localhost:8080/"
        },
        "id": "uRYOB9VxYRaJ",
        "outputId": "3da5bf62-06a2-4bca-a37d-b3223eb2bf2d"
      },
      "outputs": [
        {
          "output_type": "stream",
          "name": "stdout",
          "text": [
            "Enter a number: 12\n",
            "Enter a number: 13\n",
            "Enter a number: 11\n",
            "11\n"
          ]
        }
      ],
      "source": [
        "# Def. Minimum of three numbers\n",
        "def minimum(a, b, c):\n",
        "    if (a <= b) and (a <= c):\n",
        "        return a\n",
        "    elif (b <= a) and (b <= c):\n",
        "        return b\n",
        "    else:\n",
        "        return c\n",
        "a = int(input(\"Enter a number: \"))\n",
        "b = int(input(\"Enter a number: \"))\n",
        "c = int(input(\"Enter a number: \"))\n",
        "print(minimum(a, b, c))"
      ]
    }
  ]
}