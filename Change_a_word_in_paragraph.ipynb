{
  "nbformat": 4,
  "nbformat_minor": 0,
  "metadata": {
    "colab": {
      "provenance": [],
      "authorship_tag": "ABX9TyPr6Dlhqyw4iEhZn3Ft0ijx",
      "include_colab_link": true
    },
    "kernelspec": {
      "name": "python3",
      "display_name": "Python 3"
    },
    "language_info": {
      "name": "python"
    }
  },
  "cells": [
    {
      "cell_type": "markdown",
      "metadata": {
        "id": "view-in-github",
        "colab_type": "text"
      },
      "source": [
        "<a href=\"https://colab.research.google.com/github/SudharsanSrinivasan14/CORE-Python-Programs/blob/main/Change_a_word_in_paragraph.ipynb\" target=\"_parent\"><img src=\"https://colab.research.google.com/assets/colab-badge.svg\" alt=\"Open In Colab\"/></a>"
      ]
    },
    {
      "cell_type": "code",
      "source": [
        "# Change a new word in paragraph and count it"
      ],
      "metadata": {
        "id": "g9_XFs3WL7fi"
      },
      "execution_count": null,
      "outputs": []
    },
    {
      "cell_type": "code",
      "execution_count": 6,
      "metadata": {
        "colab": {
          "base_uri": "https://localhost:8080/"
        },
        "id": "DuzCQDUPGlfV",
        "outputId": "14243f7d-91c6-42f7-c029-02d386c67cb8"
      },
      "outputs": [
        {
          "output_type": "stream",
          "name": "stdout",
          "text": [
            "Give your paragraph : There was once a pleased elephant who generally harassed smaller animals. He would go to the ant colony and shower water on the ants. The ants, with their size, could just cry. The elephant laughed and threatened the ants that he would kill them.   The ants had enough and chose to show the elephant a lesson.   They went straight into the elephant's trunk and started messing with him. The elephant started crying in pain. He understood his mistake and apologised to the ants and every one of the animals he had harassed\n",
            "Give your new word : Lion\n",
            "Give your changing word : elephant\n",
            "Replaced Paragraph is : \n",
            " there was once a pleased lion who generally harassed smaller animals. he would go to the ant colony and shower water on the ants. the ants, with their size, could just cry. the lion laughed and threatened the ants that he would kill them.   the ants had enough and chose to show the lion a lesson.   they went straight into the lion's trunk and started messing with him. the lion started crying in pain. he understood his mistake and apologised to the ants and every one of the animals he had harassed\n"
          ]
        }
      ],
      "source": [
        "para=str(input('Give your paragraph : ')).lower()\n",
        "new_word=str(input('Give your new word : ')).lower()\n",
        "cha_word=str(input('Give your changing word : ')).lower()\n",
        "Replace_para=para.replace(cha_word,new_word)\n",
        "print('Replaced Paragraph is : \\n',Replace_para)\n"
      ]
    },
    {
      "cell_type": "code",
      "source": [
        "count=para.count(cha_word)\n",
        "print('Number of words replaced in Paragraph is : \\n',count)"
      ],
      "metadata": {
        "colab": {
          "base_uri": "https://localhost:8080/"
        },
        "id": "AARhvxJ9HO7w",
        "outputId": "faa79955-b27f-41c6-b855-d714de1a3a3a"
      },
      "execution_count": 7,
      "outputs": [
        {
          "output_type": "stream",
          "name": "stdout",
          "text": [
            "Number of words replaced in Paragraph is : \n",
            " 5\n"
          ]
        }
      ]
    }
  ]
}