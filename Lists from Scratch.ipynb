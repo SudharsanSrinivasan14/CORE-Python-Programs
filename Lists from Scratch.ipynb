{
  "nbformat": 4,
  "nbformat_minor": 0,
  "metadata": {
    "colab": {
      "name": "Lists.ipynb",
      "provenance": [],
      "include_colab_link": true
    },
    "kernelspec": {
      "name": "python3",
      "display_name": "Python 3"
    }
  },
  "cells": [
    {
      "cell_type": "markdown",
      "metadata": {
        "id": "view-in-github",
        "colab_type": "text"
      },
      "source": [
        "<a href=\"https://colab.research.google.com/github/SudharsanSrinivasan14/CORE-Python-Programs/blob/main/Lists%20from%20Scratch.ipynb\" target=\"_parent\"><img src=\"https://colab.research.google.com/assets/colab-badge.svg\" alt=\"Open In Colab\"/></a>"
      ]
    },
    {
      "cell_type": "markdown",
      "metadata": {
        "id": "HQpjSZYzSZI4"
      },
      "source": [
        "# Python Lists from Scratch !!!"
      ]
    },
    {
      "cell_type": "code",
      "metadata": {
        "id": "R98_K5UQSx9R",
        "outputId": "a1173a9c-1368-42de-dea8-39b206472095",
        "colab": {
          "base_uri": "https://localhost:8080/",
          "height": 35
        }
      },
      "source": [
        "# Creating an empty list called \"num\"\n",
        "num = [ ]\n",
        "# Adding the values inside the list\n",
        "num = [ 1, 2, 3, 4, 5]\n",
        "# Printing the list\n",
        "num"
      ],
      "execution_count": null,
      "outputs": [
        {
          "output_type": "execute_result",
          "data": {
            "text/plain": [
              "[1, 2, 3, 4, 5]"
            ]
          },
          "metadata": {
            "tags": []
          },
          "execution_count": 1
        }
      ]
    },
    {
      "cell_type": "code",
      "metadata": {
        "id": "EvnNwkDxTIJh",
        "outputId": "cd82952e-5d56-40c2-ac3f-65c2e4c6f20e",
        "colab": {
          "base_uri": "https://localhost:8080/"
        }
      },
      "source": [
        "# Adding the values irrespective of their data type: Integer, String, float.\n",
        "num = [1, 2, 3, \"Sudhan\", 4.0, 4/2]\n",
        "num"
      ],
      "execution_count": 1,
      "outputs": [
        {
          "output_type": "execute_result",
          "data": {
            "text/plain": [
              "[1, 2, 3, 'Sudhan', 4.0, 2.0]"
            ]
          },
          "metadata": {},
          "execution_count": 1
        }
      ]
    },
    {
      "cell_type": "code",
      "metadata": {
        "id": "dTPnn1k2Vd4T",
        "outputId": "976bc5da-02da-46b7-8962-8d7141cc73be",
        "colab": {
          "base_uri": "https://localhost:8080/",
          "height": 35
        }
      },
      "source": [
        "# Create a list as num\n",
        "num = [1, 2, 3, 4, 5]\n",
        "# Use type method by passing the name of the list as an arguement\n",
        "type(num)"
      ],
      "execution_count": null,
      "outputs": [
        {
          "output_type": "execute_result",
          "data": {
            "text/plain": [
              "list"
            ]
          },
          "metadata": {
            "tags": []
          },
          "execution_count": 3
        }
      ]
    },
    {
      "cell_type": "code",
      "metadata": {
        "id": "c1s1azbMp10C",
        "outputId": "d15af10b-a5e5-4240-c896-9a46118cea10",
        "colab": {
          "base_uri": "https://localhost:8080/"
        }
      },
      "source": [
        "# Creating a list called name\n",
        "name = [\"Sudhan\", \"Nanda\", \"Prabhu\"]\n",
        "name"
      ],
      "execution_count": 2,
      "outputs": [
        {
          "output_type": "execute_result",
          "data": {
            "text/plain": [
              "['Sudhan', 'Nanda', 'Prabhu']"
            ]
          },
          "metadata": {},
          "execution_count": 2
        }
      ]
    },
    {
      "cell_type": "code",
      "metadata": {
        "id": "6m96qFvMp4ii",
        "outputId": "00d10593-07e7-4dc2-9337-ee6653152ccd",
        "colab": {
          "base_uri": "https://localhost:8080/",
          "height": 35
        }
      },
      "source": [
        "# Accessing the elements in the list\n",
        "name[0] # Sudhan"
      ],
      "execution_count": 3,
      "outputs": [
        {
          "output_type": "execute_result",
          "data": {
            "text/plain": [
              "'Sudhan'"
            ],
            "application/vnd.google.colaboratory.intrinsic+json": {
              "type": "string"
            }
          },
          "metadata": {},
          "execution_count": 3
        }
      ]
    },
    {
      "cell_type": "code",
      "metadata": {
        "id": "21JdFTwEp8TP",
        "outputId": "6311429f-08e4-465a-cc5c-0cd4ad1aed25",
        "colab": {
          "base_uri": "https://localhost:8080/"
        }
      },
      "source": [
        "# Calculating the length of the list.\n",
        "len(name)"
      ],
      "execution_count": 4,
      "outputs": [
        {
          "output_type": "execute_result",
          "data": {
            "text/plain": [
              "3"
            ]
          },
          "metadata": {},
          "execution_count": 4
        }
      ]
    },
    {
      "cell_type": "code",
      "metadata": {
        "id": "L8c60jFvp_OZ",
        "outputId": "50f08483-e86f-4a61-8c99-efeaa9e7fec5",
        "colab": {
          "base_uri": "https://localhost:8080/"
        }
      },
      "source": [
        "# Calculating the length of individual elements in a list\n",
        "len(name[0])   # length of \"Sudhan\" is 6"
      ],
      "execution_count": 5,
      "outputs": [
        {
          "output_type": "execute_result",
          "data": {
            "text/plain": [
              "6"
            ]
          },
          "metadata": {},
          "execution_count": 5
        }
      ]
    },
    {
      "cell_type": "markdown",
      "metadata": {
        "id": "H8Oom4IsfhEz"
      },
      "source": [
        "### Assignment operator on Lists"
      ]
    },
    {
      "cell_type": "code",
      "metadata": {
        "id": "NfQYYrcAUjTP",
        "outputId": "93642fc8-dbf7-478e-d6ad-47135566210a",
        "colab": {
          "base_uri": "https://localhost:8080/"
        }
      },
      "source": [
        "# Creating a list called name\n",
        "name = [\"Sudhan\", \"Nanda\", \"Prabhu\"]\n",
        "name"
      ],
      "execution_count": 6,
      "outputs": [
        {
          "output_type": "execute_result",
          "data": {
            "text/plain": [
              "['Sudhan', 'Nanda', 'Prabhu']"
            ]
          },
          "metadata": {},
          "execution_count": 6
        }
      ]
    },
    {
      "cell_type": "code",
      "metadata": {
        "id": "PGLdY-RqqOJO",
        "outputId": "f7a491b0-8f35-4cf8-87a4-14499eba047f",
        "colab": {
          "base_uri": "https://localhost:8080/"
        }
      },
      "source": [
        "# Creating an empty list names\n",
        "names = []\n",
        "names"
      ],
      "execution_count": 7,
      "outputs": [
        {
          "output_type": "execute_result",
          "data": {
            "text/plain": [
              "[]"
            ]
          },
          "metadata": {},
          "execution_count": 7
        }
      ]
    },
    {
      "cell_type": "code",
      "metadata": {
        "id": "QXjv7vx2qRBE",
        "outputId": "b4c5aaed-95c0-46c5-be79-92cc96892799",
        "colab": {
          "base_uri": "https://localhost:8080/"
        }
      },
      "source": [
        "# Using assignment operator on Lists doesn't create a copy.\n",
        "names = name\n",
        "# Assigning the old list name to the new list names.\n",
        "names"
      ],
      "execution_count": 8,
      "outputs": [
        {
          "output_type": "execute_result",
          "data": {
            "text/plain": [
              "['Sudhan', 'Nanda', 'Prabhu']"
            ]
          },
          "metadata": {},
          "execution_count": 8
        }
      ]
    },
    {
      "cell_type": "markdown",
      "metadata": {
        "id": "LjZeunKZAsNR"
      },
      "source": [
        "# Appending two lists to a single list."
      ]
    },
    {
      "cell_type": "code",
      "metadata": {
        "id": "ryhZnCeNq3Bl",
        "outputId": "291afc18-a44d-4fb0-8fb5-fa3e51467068",
        "colab": {
          "base_uri": "https://localhost:8080/",
          "height": 35
        }
      },
      "source": [
        "# Creating a new list called Cars\n",
        "cars = [\"Mercedes\", \"BMW\", \"Audi\"]\n",
        "cars"
      ],
      "execution_count": null,
      "outputs": [
        {
          "output_type": "execute_result",
          "data": {
            "text/plain": [
              "['Mercedes', 'BMW', 'Audi']"
            ]
          },
          "metadata": {
            "tags": []
          },
          "execution_count": 11
        }
      ]
    },
    {
      "cell_type": "code",
      "metadata": {
        "id": "1Cwsr4N2q6X2",
        "outputId": "2f9f26ae-847a-4fac-d164-c64550778b33",
        "colab": {
          "base_uri": "https://localhost:8080/",
          "height": 35
        }
      },
      "source": [
        "# Creating a new list called bikes\n",
        "bikes = [\"Honda\", \"Yamaha\", \"Aprilla\"]\n",
        "bikes"
      ],
      "execution_count": null,
      "outputs": [
        {
          "output_type": "execute_result",
          "data": {
            "text/plain": [
              "['Honda', 'Yamaha', 'Aprilla']"
            ]
          },
          "metadata": {
            "tags": []
          },
          "execution_count": 12
        }
      ]
    },
    {
      "cell_type": "code",
      "metadata": {
        "id": "JQCkUSgRq9d1",
        "outputId": "f383f572-cd2e-40ab-89d1-986aa3bf4d2a",
        "colab": {
          "base_uri": "https://localhost:8080/",
          "height": 35
        }
      },
      "source": [
        "# Appending both the lists\n",
        "cars_bikes = cars + bikes\n",
        "cars_bikes"
      ],
      "execution_count": null,
      "outputs": [
        {
          "output_type": "execute_result",
          "data": {
            "text/plain": [
              "['Mercedes', 'BMW', 'Audi', 'Honda', 'Yamaha', 'Aprilla']"
            ]
          },
          "metadata": {
            "tags": []
          },
          "execution_count": 13
        }
      ]
    },
    {
      "cell_type": "markdown",
      "metadata": {
        "id": "sK4z2XxqrBrT"
      },
      "source": [
        "# Using FOR and IN in lists"
      ]
    },
    {
      "cell_type": "code",
      "metadata": {
        "id": "VagFTTI8rF92",
        "outputId": "3e6969c6-1955-47c0-86bc-e073c860f4f4",
        "colab": {
          "base_uri": "https://localhost:8080/",
          "height": 35
        }
      },
      "source": [
        "# Creating a list\n",
        "num = [1, 2, 3, 4, 5]\n",
        "# Assigning sum to 0\n",
        "sum = 0\n",
        "# Using a for loop to iterate over the list\n",
        "for i in num:\n",
        "  sum = sum + i\n",
        "print(sum) # 15"
      ],
      "execution_count": null,
      "outputs": [
        {
          "output_type": "stream",
          "text": [
            "15\n"
          ],
          "name": "stdout"
        }
      ]
    },
    {
      "cell_type": "markdown",
      "metadata": {
        "id": "HGe3maLyrJb-"
      },
      "source": [
        "# Using IF and IN in lists."
      ]
    },
    {
      "cell_type": "code",
      "metadata": {
        "id": "ISmvPEvGrNCi",
        "outputId": "d9e289ed-9604-40c2-d28a-cd188ef85ba3",
        "colab": {
          "base_uri": "https://localhost:8080/",
          "height": 35
        }
      },
      "source": [
        "# Creating a list\n",
        "num = [1, 2, 3, 4, 5]\n",
        "if 1 in num:\n",
        "  print(\"True\")\n",
        "else:\n",
        "  print(\"False\")"
      ],
      "execution_count": null,
      "outputs": [
        {
          "output_type": "stream",
          "text": [
            "True\n"
          ],
          "name": "stdout"
        }
      ]
    },
    {
      "cell_type": "markdown",
      "metadata": {
        "id": "ASBVmHKdrPQT"
      },
      "source": [
        "# Range function in Python."
      ]
    },
    {
      "cell_type": "code",
      "metadata": {
        "id": "eTslCEJnrTR2",
        "outputId": "2d1571e1-2243-4b08-c96d-b39f9b8496cf",
        "colab": {
          "base_uri": "https://localhost:8080/",
          "height": 104
        }
      },
      "source": [
        "# Range starts 0 to n-1\n",
        "for i in range(5):\n",
        " print(i)"
      ],
      "execution_count": null,
      "outputs": [
        {
          "output_type": "stream",
          "text": [
            "0\n",
            "1\n",
            "2\n",
            "3\n",
            "4\n"
          ],
          "name": "stdout"
        }
      ]
    },
    {
      "cell_type": "markdown",
      "metadata": {
        "id": "tmECTrCqrYcn"
      },
      "source": [
        "# While loop in python"
      ]
    },
    {
      "cell_type": "code",
      "metadata": {
        "id": "CmUGkdqtrWRC",
        "outputId": "4212904e-b61e-47f5-ee65-a565fb70aa84",
        "colab": {
          "base_uri": "https://localhost:8080/",
          "height": 191
        }
      },
      "source": [
        "# Initialisin i to 0\n",
        "i = 0\n",
        "while i < 10:\n",
        " print(i) # 0–9\n",
        " i = i+ 1"
      ],
      "execution_count": null,
      "outputs": [
        {
          "output_type": "stream",
          "text": [
            "0\n",
            "1\n",
            "2\n",
            "3\n",
            "4\n",
            "5\n",
            "6\n",
            "7\n",
            "8\n",
            "9\n"
          ],
          "name": "stdout"
        }
      ]
    },
    {
      "cell_type": "markdown",
      "metadata": {
        "id": "awbJtgTcrePT"
      },
      "source": [
        "# List methods."
      ]
    },
    {
      "cell_type": "markdown",
      "metadata": {
        "id": "EILdnNLFrh8H"
      },
      "source": [
        "Below are some of the most common list methods shown with an example."
      ]
    },
    {
      "cell_type": "markdown",
      "metadata": {
        "id": "GaUe6W8Grj_-"
      },
      "source": [
        "**a) List append method**"
      ]
    },
    {
      "cell_type": "code",
      "metadata": {
        "id": "Nw50C6swroMu",
        "outputId": "43cc4cb9-f132-428d-9aec-de083dce05b8",
        "colab": {
          "base_uri": "https://localhost:8080/"
        }
      },
      "source": [
        "# Creating a new list called name\n",
        "name = ['Sudhan', 'Nanda']\n",
        "# Before appending\n",
        "name"
      ],
      "execution_count": 9,
      "outputs": [
        {
          "output_type": "execute_result",
          "data": {
            "text/plain": [
              "['Sudhan', 'Nanda']"
            ]
          },
          "metadata": {},
          "execution_count": 9
        }
      ]
    },
    {
      "cell_type": "code",
      "metadata": {
        "id": "iwX3dcwOrsfC",
        "outputId": "ea6f6009-aacd-4fd8-b13c-f8c15c7583f5",
        "colab": {
          "base_uri": "https://localhost:8080/"
        }
      },
      "source": [
        "# Using the append operation on the current (\"Prabhu\") is the value to be appended.\n",
        "name.append(\"Prabhu\")\n",
        "# After appending\n",
        "name"
      ],
      "execution_count": 10,
      "outputs": [
        {
          "output_type": "execute_result",
          "data": {
            "text/plain": [
              "['Sudhan', 'Nanda', 'Prabhu']"
            ]
          },
          "metadata": {},
          "execution_count": 10
        }
      ]
    },
    {
      "cell_type": "markdown",
      "metadata": {
        "id": "iVTgbpCkrwpG"
      },
      "source": [
        "**b) List insert method**"
      ]
    },
    {
      "cell_type": "code",
      "metadata": {
        "id": "3lGudkynrwe0",
        "outputId": "be221fe1-db3a-4f66-f6d5-252fb3316133",
        "colab": {
          "base_uri": "https://localhost:8080/"
        }
      },
      "source": [
        "# Creating a new list called list\n",
        "name = ['Sudhan', 'Nanda']\n",
        "# Before inserting\n",
        "name"
      ],
      "execution_count": 11,
      "outputs": [
        {
          "output_type": "execute_result",
          "data": {
            "text/plain": [
              "['Sudhan', 'Nanda']"
            ]
          },
          "metadata": {},
          "execution_count": 11
        }
      ]
    },
    {
      "cell_type": "code",
      "metadata": {
        "id": "ee2uY9Ncr1q5",
        "outputId": "11931b04-9991-451e-f96d-1e5ad52a5f8d",
        "colab": {
          "base_uri": "https://localhost:8080/"
        }
      },
      "source": [
        "# Insert Operation on the existing list, here the index position is 2.\n",
        "name.insert(2, \"Prabhu\")\n",
        "# After Inserting\n",
        "name"
      ],
      "execution_count": 12,
      "outputs": [
        {
          "output_type": "execute_result",
          "data": {
            "text/plain": [
              "['Sudhan', 'Nanda', 'Prabhu']"
            ]
          },
          "metadata": {},
          "execution_count": 12
        }
      ]
    },
    {
      "cell_type": "markdown",
      "metadata": {
        "id": "VVkPpvTor9NI"
      },
      "source": [
        "**c) List extend method**"
      ]
    },
    {
      "cell_type": "code",
      "metadata": {
        "id": "KOp3wcT0r_bA",
        "outputId": "0bde8357-8fa6-49ca-f65e-d59f317631c1",
        "colab": {
          "base_uri": "https://localhost:8080/"
        }
      },
      "source": [
        "# Creating a new list called name\n",
        "name = ['Sudhan', 'Nanda']\n",
        "# Before extending\n",
        "name"
      ],
      "execution_count": 13,
      "outputs": [
        {
          "output_type": "execute_result",
          "data": {
            "text/plain": [
              "['Sudhan', 'Nanda']"
            ]
          },
          "metadata": {},
          "execution_count": 13
        }
      ]
    },
    {
      "cell_type": "code",
      "metadata": {
        "id": "v8bWVXgKsCJ4",
        "outputId": "6b3f6dfa-17ac-47a0-9835-54a568174971",
        "colab": {
          "base_uri": "https://localhost:8080/"
        }
      },
      "source": [
        "# Using extend but make sure that you put the elements in a []\n",
        "# Without []\n",
        "name.extend(\"Prabhu\")\n",
        "# After extending\n",
        "name"
      ],
      "execution_count": 14,
      "outputs": [
        {
          "output_type": "execute_result",
          "data": {
            "text/plain": [
              "['Sudhan', 'Nanda', 'P', 'r', 'a', 'b', 'h', 'u']"
            ]
          },
          "metadata": {},
          "execution_count": 14
        }
      ]
    },
    {
      "cell_type": "code",
      "metadata": {
        "id": "oN64LF0MsD83",
        "outputId": "d9c4a7c6-781f-4ea0-9f99-ae7e17dd7a1c",
        "colab": {
          "base_uri": "https://localhost:8080/"
        }
      },
      "source": [
        "# After []\n",
        "name.extend([\"Prabhu\"])\n",
        "name"
      ],
      "execution_count": 15,
      "outputs": [
        {
          "output_type": "execute_result",
          "data": {
            "text/plain": [
              "['Sudhan', 'Nanda', 'P', 'r', 'a', 'b', 'h', 'u', 'Prabhu']"
            ]
          },
          "metadata": {},
          "execution_count": 15
        }
      ]
    },
    {
      "cell_type": "markdown",
      "metadata": {
        "id": "5jF1kglBsGev"
      },
      "source": [
        "**d) List index method**"
      ]
    },
    {
      "cell_type": "code",
      "metadata": {
        "id": "4cXXfsd9sKTM",
        "outputId": "5f8744fe-8f41-44ca-d068-2258f393d502",
        "colab": {
          "base_uri": "https://localhost:8080/"
        }
      },
      "source": [
        "# Creating a new list called name\n",
        "name = ['Sudhan', 'Nanda']\n",
        "# Before indexing\n",
        "name"
      ],
      "execution_count": 16,
      "outputs": [
        {
          "output_type": "execute_result",
          "data": {
            "text/plain": [
              "['Sudhan', 'Nanda']"
            ]
          },
          "metadata": {},
          "execution_count": 16
        }
      ]
    },
    {
      "cell_type": "code",
      "metadata": {
        "id": "obyo2Tb_sNGE",
        "outputId": "1953bdbd-3ae9-4591-caef-036cf98a7359",
        "colab": {
          "base_uri": "https://localhost:8080/"
        }
      },
      "source": [
        "# After indexing, type the element that you want to index.\n",
        "name.index(\"Nanda\")"
      ],
      "execution_count": 17,
      "outputs": [
        {
          "output_type": "execute_result",
          "data": {
            "text/plain": [
              "1"
            ]
          },
          "metadata": {},
          "execution_count": 17
        }
      ]
    },
    {
      "cell_type": "markdown",
      "metadata": {
        "id": "Axe6nM7nsSW6"
      },
      "source": [
        "**e) List remove method**"
      ]
    },
    {
      "cell_type": "code",
      "metadata": {
        "id": "8mALjCzasUcw",
        "outputId": "5beca5ea-6795-4d90-8ee1-7e779fd4c862",
        "colab": {
          "base_uri": "https://localhost:8080/"
        }
      },
      "source": [
        "# Creating a new list called name\n",
        "name = ['Sudhan', 'Nanda']\n",
        "# Before removing\n",
        "name"
      ],
      "execution_count": 19,
      "outputs": [
        {
          "output_type": "execute_result",
          "data": {
            "text/plain": [
              "['Sudhan', 'Nanda']"
            ]
          },
          "metadata": {},
          "execution_count": 19
        }
      ]
    },
    {
      "cell_type": "code",
      "metadata": {
        "id": "QT9cFWTjsXUC",
        "outputId": "bdd0527a-4f73-48af-8157-c70a6c69c508",
        "colab": {
          "base_uri": "https://localhost:8080/"
        }
      },
      "source": [
        "# After removing\n",
        "name.remove(\"Nanda\")\n",
        "name"
      ],
      "execution_count": 20,
      "outputs": [
        {
          "output_type": "execute_result",
          "data": {
            "text/plain": [
              "['Sudhan']"
            ]
          },
          "metadata": {},
          "execution_count": 20
        }
      ]
    },
    {
      "cell_type": "markdown",
      "metadata": {
        "id": "sc5fdFfgslEm"
      },
      "source": [
        "**f) List sort method**"
      ]
    },
    {
      "cell_type": "code",
      "metadata": {
        "id": "spkCBNK3su8F",
        "outputId": "cc265522-4901-4b3b-9ede-cf57aa887cf7",
        "colab": {
          "base_uri": "https://localhost:8080/"
        }
      },
      "source": [
        "# Creating a list called num\n",
        "num = [1, 4, 5, 2, 3]\n",
        "# Before sorting\n",
        "num"
      ],
      "execution_count": 21,
      "outputs": [
        {
          "output_type": "execute_result",
          "data": {
            "text/plain": [
              "[1, 4, 5, 2, 3]"
            ]
          },
          "metadata": {},
          "execution_count": 21
        }
      ]
    },
    {
      "cell_type": "code",
      "metadata": {
        "id": "0BucUSzVsxVf",
        "outputId": "83cfe3fd-948a-4355-fc13-d5825078ed66",
        "colab": {
          "base_uri": "https://localhost:8080/"
        }
      },
      "source": [
        "# After sorting\n",
        "num.sort()\n",
        "num"
      ],
      "execution_count": 22,
      "outputs": [
        {
          "output_type": "execute_result",
          "data": {
            "text/plain": [
              "[1, 2, 3, 4, 5]"
            ]
          },
          "metadata": {},
          "execution_count": 22
        }
      ]
    },
    {
      "cell_type": "markdown",
      "metadata": {
        "id": "eukKn9FeszQg"
      },
      "source": [
        "**g) List Reverse method**"
      ]
    },
    {
      "cell_type": "code",
      "metadata": {
        "id": "71BJzsYxs1g-",
        "outputId": "1adc80c4-13c4-433d-e2fa-2b98d402693f",
        "colab": {
          "base_uri": "https://localhost:8080/",
          "height": 35
        }
      },
      "source": [
        "# Creating a list called num\n",
        "num = [1, 2, 3, 4, 5]\n",
        "# Before Reversing\n",
        "num"
      ],
      "execution_count": null,
      "outputs": [
        {
          "output_type": "execute_result",
          "data": {
            "text/plain": [
              "[1, 2, 3, 4, 5]"
            ]
          },
          "metadata": {
            "tags": []
          },
          "execution_count": 34
        }
      ]
    },
    {
      "cell_type": "code",
      "metadata": {
        "id": "t8nJU-kUs4HF",
        "outputId": "7bddbf25-949b-4797-b3da-f1a54c21cb3a",
        "colab": {
          "base_uri": "https://localhost:8080/",
          "height": 35
        }
      },
      "source": [
        "num.reverse()\n",
        "# After the reverse\n",
        "num"
      ],
      "execution_count": null,
      "outputs": [
        {
          "output_type": "execute_result",
          "data": {
            "text/plain": [
              "[5, 4, 3, 2, 1]"
            ]
          },
          "metadata": {
            "tags": []
          },
          "execution_count": 35
        }
      ]
    },
    {
      "cell_type": "markdown",
      "metadata": {
        "id": "THOAJzVHs6vX"
      },
      "source": [
        "**h) List pop method**"
      ]
    },
    {
      "cell_type": "code",
      "metadata": {
        "id": "Vf3_3htss9fq",
        "outputId": "de615997-224c-42c2-ea72-b707a79d76eb",
        "colab": {
          "base_uri": "https://localhost:8080/",
          "height": 35
        }
      },
      "source": [
        "# Creating a list called num\n",
        "num = [1, 2, 3, 4, 5]\n",
        "# Before popping\n",
        "num"
      ],
      "execution_count": null,
      "outputs": [
        {
          "output_type": "execute_result",
          "data": {
            "text/plain": [
              "[1, 2, 3, 4, 5]"
            ]
          },
          "metadata": {
            "tags": []
          },
          "execution_count": 36
        }
      ]
    },
    {
      "cell_type": "code",
      "metadata": {
        "id": "bMCUHjeDtAAO",
        "outputId": "2b97eac9-e47b-4668-9776-db70029a52d5",
        "colab": {
          "base_uri": "https://localhost:8080/",
          "height": 35
        }
      },
      "source": [
        "# After popping\n",
        "num.pop(1)"
      ],
      "execution_count": null,
      "outputs": [
        {
          "output_type": "execute_result",
          "data": {
            "text/plain": [
              "2"
            ]
          },
          "metadata": {
            "tags": []
          },
          "execution_count": 37
        }
      ]
    },
    {
      "cell_type": "code",
      "metadata": {
        "id": "wSuKIqIJtBgz",
        "outputId": "d0d98514-5079-47f7-96d6-2d25100e85f7",
        "colab": {
          "base_uri": "https://localhost:8080/",
          "height": 35
        }
      },
      "source": [
        "num"
      ],
      "execution_count": null,
      "outputs": [
        {
          "output_type": "execute_result",
          "data": {
            "text/plain": [
              "[1, 3, 4, 5]"
            ]
          },
          "metadata": {
            "tags": []
          },
          "execution_count": 38
        }
      ]
    },
    {
      "cell_type": "markdown",
      "metadata": {
        "id": "D4A_Ydl1tMBW"
      },
      "source": [
        "# Converting a string to a list"
      ]
    },
    {
      "cell_type": "code",
      "metadata": {
        "id": "rGlOVSV3taFK",
        "outputId": "dcae8075-bed3-4dff-e5d7-3f5f4ec55356",
        "colab": {
          "base_uri": "https://localhost:8080/",
          "height": 35
        }
      },
      "source": [
        "# Creating a String\n",
        "String = \"Sudhan\"\n",
        "String"
      ],
      "execution_count": 23,
      "outputs": [
        {
          "output_type": "execute_result",
          "data": {
            "text/plain": [
              "'Sudhan'"
            ],
            "application/vnd.google.colaboratory.intrinsic+json": {
              "type": "string"
            }
          },
          "metadata": {},
          "execution_count": 23
        }
      ]
    },
    {
      "cell_type": "code",
      "metadata": {
        "id": "vzTQPbGNtbwN",
        "outputId": "0adf0c4f-51d4-4276-c38f-0d2339843f29",
        "colab": {
          "base_uri": "https://localhost:8080/"
        }
      },
      "source": [
        "# Checking for the type\n",
        "type(String)"
      ],
      "execution_count": 24,
      "outputs": [
        {
          "output_type": "execute_result",
          "data": {
            "text/plain": [
              "str"
            ]
          },
          "metadata": {},
          "execution_count": 24
        }
      ]
    },
    {
      "cell_type": "code",
      "metadata": {
        "id": "BjB0Wel4tdUo",
        "outputId": "078a5380-3414-4425-b123-eef23a739cb7",
        "colab": {
          "base_uri": "https://localhost:8080/"
        }
      },
      "source": [
        "# Using the split method to split the string into a list.\n",
        "name = list(String.split(\" \"))\n",
        "name"
      ],
      "execution_count": 25,
      "outputs": [
        {
          "output_type": "execute_result",
          "data": {
            "text/plain": [
              "['Sudhan']"
            ]
          },
          "metadata": {},
          "execution_count": 25
        }
      ]
    },
    {
      "cell_type": "code",
      "metadata": {
        "id": "iL81efS3wwdh",
        "outputId": "6a5931ba-02f4-4c02-b5eb-bbd79d6f83f4",
        "colab": {
          "base_uri": "https://localhost:8080/"
        }
      },
      "source": [
        "type(name)"
      ],
      "execution_count": 26,
      "outputs": [
        {
          "output_type": "execute_result",
          "data": {
            "text/plain": [
              "list"
            ]
          },
          "metadata": {},
          "execution_count": 26
        }
      ]
    },
    {
      "cell_type": "markdown",
      "metadata": {
        "id": "HAjHMPzy4M8P"
      },
      "source": [
        "## ThankYou."
      ]
    }
  ]
}