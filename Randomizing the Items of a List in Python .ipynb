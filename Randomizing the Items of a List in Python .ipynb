{
  "nbformat": 4,
  "nbformat_minor": 0,
  "metadata": {
    "colab": {
      "provenance": [],
      "authorship_tag": "ABX9TyPYCBBaNMR9zvEC4L66zSEP",
      "include_colab_link": true
    },
    "kernelspec": {
      "name": "python3",
      "display_name": "Python 3"
    },
    "language_info": {
      "name": "python"
    }
  },
  "cells": [
    {
      "cell_type": "markdown",
      "metadata": {
        "id": "view-in-github",
        "colab_type": "text"
      },
      "source": [
        "<a href=\"https://colab.research.google.com/github/SudharsanSrinivasan14/CORE-Python-Programs/blob/main/Randomizing%20the%20Items%20of%20a%20List%20in%20Python%20.ipynb\" target=\"_parent\"><img src=\"https://colab.research.google.com/assets/colab-badge.svg\" alt=\"Open In Colab\"/></a>"
      ]
    },
    {
      "cell_type": "code",
      "execution_count": 3,
      "metadata": {
        "colab": {
          "base_uri": "https://localhost:8080/"
        },
        "id": "Lc2kyg5Heocq",
        "outputId": "9a11c03a-58f5-4efb-accf-53daf08505ba"
      },
      "outputs": [
        {
          "output_type": "stream",
          "name": "stdout",
          "text": [
            "['is', 'Python', 'Easy']\n"
          ]
        }
      ],
      "source": [
        "# Randomizing the Items of a List in Python\n",
        "\n",
        "from random import shuffle\n",
        "\n",
        "lst = ['Python', 'is', 'Easy']\n",
        "shuffle(lst)\n",
        "print(lst)"
      ]
    }
  ]
}