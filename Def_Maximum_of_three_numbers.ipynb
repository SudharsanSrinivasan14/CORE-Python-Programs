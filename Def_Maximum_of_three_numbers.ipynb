{
  "nbformat": 4,
  "nbformat_minor": 0,
  "metadata": {
    "colab": {
      "provenance": [],
      "authorship_tag": "ABX9TyOhGCEkd+SrWWItDVVLwgDB",
      "include_colab_link": true
    },
    "kernelspec": {
      "name": "python3",
      "display_name": "Python 3"
    },
    "language_info": {
      "name": "python"
    }
  },
  "cells": [
    {
      "cell_type": "markdown",
      "metadata": {
        "id": "view-in-github",
        "colab_type": "text"
      },
      "source": [
        "<a href=\"https://colab.research.google.com/github/SudharsanSrinivasan14/CORE-Python-Programs/blob/main/Def_Maximum_of_three_numbers.ipynb\" target=\"_parent\"><img src=\"https://colab.research.google.com/assets/colab-badge.svg\" alt=\"Open In Colab\"/></a>"
      ]
    },
    {
      "cell_type": "code",
      "execution_count": 2,
      "metadata": {
        "colab": {
          "base_uri": "https://localhost:8080/"
        },
        "id": "OfCmmjNaYQzm",
        "outputId": "ea9749ff-d04c-4fea-da75-5a93e79998c9"
      },
      "outputs": [
        {
          "output_type": "stream",
          "name": "stdout",
          "text": [
            "Enter a number: 11\n",
            "Enter a number: 12\n",
            "Enter a number: 13\n",
            "13\n"
          ]
        }
      ],
      "source": [
        "# Def. Maximum of three numbers\n",
        "def maximum(a, b, c):\n",
        "    if (a >= b) and (a >= c):\n",
        "        return a\n",
        "    elif (b >= a) and (b >= c):\n",
        "        return b\n",
        "    else:\n",
        "        return c\n",
        "\n",
        "a = int(input(\"Enter a number: \"))\n",
        "b = int(input(\"Enter a number: \"))\n",
        "c = int(input(\"Enter a number: \"))\n",
        "print(maximum(a, b, c))"
      ]
    }
  ]
}