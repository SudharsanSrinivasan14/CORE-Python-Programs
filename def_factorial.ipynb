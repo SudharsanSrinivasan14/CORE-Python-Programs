{
  "nbformat": 4,
  "nbformat_minor": 0,
  "metadata": {
    "colab": {
      "provenance": [],
      "authorship_tag": "ABX9TyNxrmTvqwhXoims0sAQMnMX",
      "include_colab_link": true
    },
    "kernelspec": {
      "name": "python3",
      "display_name": "Python 3"
    },
    "language_info": {
      "name": "python"
    }
  },
  "cells": [
    {
      "cell_type": "markdown",
      "metadata": {
        "id": "view-in-github",
        "colab_type": "text"
      },
      "source": [
        "<a href=\"https://colab.research.google.com/github/SudharsanSrinivasan14/CORE-Python-Programs/blob/main/def_factorial.ipynb\" target=\"_parent\"><img src=\"https://colab.research.google.com/assets/colab-badge.svg\" alt=\"Open In Colab\"/></a>"
      ]
    },
    {
      "cell_type": "code",
      "execution_count": 1,
      "metadata": {
        "colab": {
          "base_uri": "https://localhost:8080/"
        },
        "id": "wZ3BxNnXR_Ty",
        "outputId": "6ee5944c-8262-437e-e3a0-485b34091513"
      },
      "outputs": [
        {
          "output_type": "stream",
          "name": "stdout",
          "text": [
            "number:7\n",
            "5040\n"
          ]
        }
      ],
      "source": [
        "# python function to calc. the factorial of a number(non negative integer) :\n",
        "def factorial (n):\n",
        "    if n==0:\n",
        "        return 1\n",
        "    else:\n",
        "        return n*factorial(n-1)\n",
        "n=int(input('number:'))\n",
        "print(factorial(n))"
      ]
    }
  ]
}