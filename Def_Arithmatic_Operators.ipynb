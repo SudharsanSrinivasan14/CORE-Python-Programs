{
  "nbformat": 4,
  "nbformat_minor": 0,
  "metadata": {
    "colab": {
      "provenance": [],
      "authorship_tag": "ABX9TyMfEVW+1L7cUhgxyfrXIttF",
      "include_colab_link": true
    },
    "kernelspec": {
      "name": "python3",
      "display_name": "Python 3"
    },
    "language_info": {
      "name": "python"
    }
  },
  "cells": [
    {
      "cell_type": "markdown",
      "metadata": {
        "id": "view-in-github",
        "colab_type": "text"
      },
      "source": [
        "<a href=\"https://colab.research.google.com/github/SudharsanSrinivasan14/CORE-Python-Programs/blob/main/Def_Arithmatic_Operators.ipynb\" target=\"_parent\"><img src=\"https://colab.research.google.com/assets/colab-badge.svg\" alt=\"Open In Colab\"/></a>"
      ]
    },
    {
      "cell_type": "code",
      "execution_count": 1,
      "metadata": {
        "colab": {
          "base_uri": "https://localhost:8080/"
        },
        "id": "z_hq5_qZZ3hz",
        "outputId": "039b26a4-9e88-4fd3-849c-53bb37ea2a08"
      },
      "outputs": [
        {
          "output_type": "stream",
          "name": "stdout",
          "text": [
            "Give the A value 12\n",
            "Givve the B value 14\n",
            "Adding result 26\n",
            "Subtrcting result -2\n",
            "Multipling result 168\n",
            "Dividing result 0.8571428571428571\n"
          ]
        }
      ],
      "source": [
        "# Def Arithmatic Operators\n",
        "def add(a,b):\n",
        "    c=a+b\n",
        "    print('Adding result',c)\n",
        "def sub(a,b):\n",
        "    c=a-b\n",
        "    print('Subtrcting result',c)\n",
        "def mul(a,b):\n",
        "    c=a*b\n",
        "    print('Multipling result',c)\n",
        "def div(a,b):\n",
        "    c=a/b\n",
        "    print('Dividing result',c)\n",
        "a = int(input('Give the A value '))\n",
        "b = int(input('Givve the B value '))\n",
        "add(a,b)\n",
        "sub(a,b)\n",
        "mul(a,b)\n",
        "div(a,b)"
      ]
    }
  ]
}