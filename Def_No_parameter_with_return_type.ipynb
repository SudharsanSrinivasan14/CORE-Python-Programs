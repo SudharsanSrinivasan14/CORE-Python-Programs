{
  "nbformat": 4,
  "nbformat_minor": 0,
  "metadata": {
    "colab": {
      "provenance": [],
      "authorship_tag": "ABX9TyNfgy6Syxwj4b0JKX4bk+6y",
      "include_colab_link": true
    },
    "kernelspec": {
      "name": "python3",
      "display_name": "Python 3"
    },
    "language_info": {
      "name": "python"
    }
  },
  "cells": [
    {
      "cell_type": "markdown",
      "metadata": {
        "id": "view-in-github",
        "colab_type": "text"
      },
      "source": [
        "<a href=\"https://colab.research.google.com/github/SudharsanSrinivasan14/CORE-Python-Programs/blob/main/Def_No_parameter_with_return_type.ipynb\" target=\"_parent\"><img src=\"https://colab.research.google.com/assets/colab-badge.svg\" alt=\"Open In Colab\"/></a>"
      ]
    },
    {
      "cell_type": "code",
      "execution_count": null,
      "metadata": {
        "colab": {
          "base_uri": "https://localhost:8080/"
        },
        "id": "FzH4QOc6ae-j",
        "outputId": "53a1e2e8-b425-4551-9fd5-d93ec5c48945"
      },
      "outputs": [
        {
          "output_type": "stream",
          "name": "stdout",
          "text": [
            "x value 12\n",
            "y value 8\n",
            "the value of subtraction is 4\n"
          ]
        }
      ],
      "source": [
        "# No parameter with return type\n",
        "def sub():\n",
        "    x=int(input('x value '))\n",
        "    y=int(input('y value '))\n",
        "    z=x-y\n",
        "    return(z)\n",
        "#main process\n",
        "s= sub()\n",
        "print('the value of subtraction is', s)"
      ]
    }
  ]
}