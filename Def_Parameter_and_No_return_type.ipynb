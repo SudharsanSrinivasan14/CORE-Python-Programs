{
  "nbformat": 4,
  "nbformat_minor": 0,
  "metadata": {
    "colab": {
      "provenance": [],
      "authorship_tag": "ABX9TyNWKb37SQ/hdK4TjCtXQGQW",
      "include_colab_link": true
    },
    "kernelspec": {
      "name": "python3",
      "display_name": "Python 3"
    },
    "language_info": {
      "name": "python"
    }
  },
  "cells": [
    {
      "cell_type": "markdown",
      "metadata": {
        "id": "view-in-github",
        "colab_type": "text"
      },
      "source": [
        "<a href=\"https://colab.research.google.com/github/SudharsanSrinivasan14/CORE-Python-Programs/blob/main/Def_Parameter_and_No_return_type.ipynb\" target=\"_parent\"><img src=\"https://colab.research.google.com/assets/colab-badge.svg\" alt=\"Open In Colab\"/></a>"
      ]
    },
    {
      "cell_type": "code",
      "execution_count": null,
      "metadata": {
        "colab": {
          "base_uri": "https://localhost:8080/"
        },
        "id": "Kj0Rs-PGahGD",
        "outputId": "fcf6f0e1-9680-4c8e-85b6-b96b356ed923"
      },
      "outputs": [
        {
          "output_type": "stream",
          "name": "stdout",
          "text": [
            "a value 12\n",
            "b value 5\n",
            "the multiplication is  60\n"
          ]
        }
      ],
      "source": [
        "# Parameter and No return type\n",
        "def mul(i,j):\n",
        "    k= i*j\n",
        "    print('the multiplication is ',k)\n",
        "#main process\n",
        "a=int(input('a value '))\n",
        "b=int(input('b value '))\n",
        "mul(a,b)"
      ]
    }
  ]
}