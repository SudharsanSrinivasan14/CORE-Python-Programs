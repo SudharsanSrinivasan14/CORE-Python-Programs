{
  "nbformat": 4,
  "nbformat_minor": 0,
  "metadata": {
    "colab": {
      "provenance": [],
      "authorship_tag": "ABX9TyNYHiP1SDwh/7sa3v2StP52",
      "include_colab_link": true
    },
    "kernelspec": {
      "name": "python3",
      "display_name": "Python 3"
    },
    "language_info": {
      "name": "python"
    }
  },
  "cells": [
    {
      "cell_type": "markdown",
      "metadata": {
        "id": "view-in-github",
        "colab_type": "text"
      },
      "source": [
        "<a href=\"https://colab.research.google.com/github/SudharsanSrinivasan14/CORE-Python-Programs/blob/main/Def__Python_functions_to_multiply_all_the_numbers_in_a_list_(User_Input_Values).ipynb\" target=\"_parent\"><img src=\"https://colab.research.google.com/assets/colab-badge.svg\" alt=\"Open In Colab\"/></a>"
      ]
    },
    {
      "cell_type": "code",
      "execution_count": 1,
      "metadata": {
        "colab": {
          "base_uri": "https://localhost:8080/"
        },
        "id": "PuxdbaxeUjDD",
        "outputId": "849c8144-f37f-4fdf-ec61-b32be89ed27d"
      },
      "outputs": [
        {
          "output_type": "stream",
          "name": "stdout",
          "text": [
            "Give a list count : 5\n",
            "Give a numbers : 12\n",
            "Give a numbers : 1\n",
            "Give a numbers : 2\n",
            "Give a numbers : 3\n",
            "Give a numbers : 4\n",
            "[12, 1, 2, 3, 4]\n",
            "288\n"
          ]
        }
      ],
      "source": [
        "# Def .Python functions to multiply all the numbers in a list (User Input Values):\n",
        "n=int(input('Give a list count : '))\n",
        "l=[]\n",
        "for i in range (0,n):\n",
        "    num=int(input('Give a numbers : '))\n",
        "    l.append(num)\n",
        "def multiply (l):\n",
        "        total=1\n",
        "        for x in l:\n",
        "            total=total*x\n",
        "        return total\n",
        "print(l)\n",
        "print(multiply(l))"
      ]
    }
  ]
}