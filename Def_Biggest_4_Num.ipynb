{
  "nbformat": 4,
  "nbformat_minor": 0,
  "metadata": {
    "colab": {
      "provenance": [],
      "authorship_tag": "ABX9TyNY7Jpk1TefAJLJFGkeF9i7",
      "include_colab_link": true
    },
    "kernelspec": {
      "name": "python3",
      "display_name": "Python 3"
    },
    "language_info": {
      "name": "python"
    }
  },
  "cells": [
    {
      "cell_type": "markdown",
      "metadata": {
        "id": "view-in-github",
        "colab_type": "text"
      },
      "source": [
        "<a href=\"https://colab.research.google.com/github/SudharsanSrinivasan14/CORE-Python-Programs/blob/main/Def_Biggest_4_Num.ipynb\" target=\"_parent\"><img src=\"https://colab.research.google.com/assets/colab-badge.svg\" alt=\"Open In Colab\"/></a>"
      ]
    },
    {
      "cell_type": "code",
      "execution_count": 1,
      "metadata": {
        "colab": {
          "base_uri": "https://localhost:8080/"
        },
        "id": "NXkog9LWUias",
        "outputId": "dd74be47-28d4-4903-f370-5f9d1494b96e"
      },
      "outputs": [
        {
          "output_type": "stream",
          "name": "stdout",
          "text": [
            "Give A Number : 25\n",
            "Give B Number : 45\n",
            "Give C Number : 12\n",
            "Give D Number : 17\n",
            "B is big\n"
          ]
        }
      ],
      "source": [
        "# Def . Biggest 4 Num :\n",
        "def big_4_num(a,b,c,d):\n",
        "    if (a>b and a>c and a>d):\n",
        "        print(\"A is big\")\n",
        "    elif (b>a and b>c and b>d):\n",
        "        print(\"B is big\")\n",
        "    elif (c>a and c>b and c>d):\n",
        "        print(\"C is big\")\n",
        "    else:\n",
        "        print(\"D is big\")\n",
        "a=int(input('Give A Number : '))\n",
        "b=int(input('Give B Number : '))\n",
        "c=int(input('Give C Number : '))\n",
        "d=int(input('Give D Number : '))\n",
        "big_4_num(a,b,c,d)"
      ]
    }
  ]
}