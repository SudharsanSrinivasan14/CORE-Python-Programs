{
  "nbformat": 4,
  "nbformat_minor": 0,
  "metadata": {
    "colab": {
      "provenance": [],
      "authorship_tag": "ABX9TyP9dpWpvRAv7hZq72YEMG94",
      "include_colab_link": true
    },
    "kernelspec": {
      "name": "python3",
      "display_name": "Python 3"
    },
    "language_info": {
      "name": "python"
    }
  },
  "cells": [
    {
      "cell_type": "markdown",
      "metadata": {
        "id": "view-in-github",
        "colab_type": "text"
      },
      "source": [
        "<a href=\"https://colab.research.google.com/github/SudharsanSrinivasan14/CORE-Python-Programs/blob/main/Counting_the_Number_of_occurances_of_a_Character_in_a_String.ipynb\" target=\"_parent\"><img src=\"https://colab.research.google.com/assets/colab-badge.svg\" alt=\"Open In Colab\"/></a>"
      ]
    },
    {
      "cell_type": "code",
      "execution_count": 1,
      "metadata": {
        "colab": {
          "base_uri": "https://localhost:8080/"
        },
        "id": "iNCNXrVGgs9z",
        "outputId": "96501bef-1154-43bc-9798-0733a0b05bc2"
      },
      "outputs": [
        {
          "output_type": "stream",
          "name": "stdout",
          "text": [
            "Give a word : Python\n",
            "Give a character : P\n",
            "1\n"
          ]
        }
      ],
      "source": [
        "# Counting the Number of occurances of a Character in a String word\n",
        "word = input ('Give a word : ')\n",
        "character = input ('Give a character : ')\n",
        "count = 0\n",
        "for letter in word:\n",
        "    if letter == character:\n",
        "        count += 1\n",
        "print(count)"
      ]
    }
  ]
}