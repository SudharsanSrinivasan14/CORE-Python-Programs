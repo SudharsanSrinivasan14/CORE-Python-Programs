{
  "nbformat": 4,
  "nbformat_minor": 0,
  "metadata": {
    "colab": {
      "provenance": [],
      "authorship_tag": "ABX9TyNdGt0oh1D3OhQ6e1u2c5Gx",
      "include_colab_link": true
    },
    "kernelspec": {
      "name": "python3",
      "display_name": "Python 3"
    },
    "language_info": {
      "name": "python"
    }
  },
  "cells": [
    {
      "cell_type": "markdown",
      "metadata": {
        "id": "view-in-github",
        "colab_type": "text"
      },
      "source": [
        "<a href=\"https://colab.research.google.com/github/SudharsanSrinivasan14/CORE-Python-Programs/blob/main/Def_Python_function_to_check_whether_a_number_falls_within_a_given_range.ipynb\" target=\"_parent\"><img src=\"https://colab.research.google.com/assets/colab-badge.svg\" alt=\"Open In Colab\"/></a>"
      ]
    },
    {
      "cell_type": "code",
      "execution_count": 1,
      "metadata": {
        "colab": {
          "base_uri": "https://localhost:8080/"
        },
        "id": "Nls1H8fAUjhB",
        "outputId": "5ccc2eaa-9ccb-4a6b-ec10-fd946e5fff8b"
      },
      "outputs": [
        {
          "output_type": "stream",
          "name": "stdout",
          "text": [
            "Give a Number : 5\n",
            "Give Start Range : 1\n",
            "Give End Range : 10\n",
            "With in range\n"
          ]
        }
      ],
      "source": [
        "# Def . Python function to check whether a number falls within a given range:\n",
        "def test_range (n):\n",
        "  a=int(input('Give Start Range : '))\n",
        "  b=int(input('Give End Range : '))\n",
        "  if n in range (a,b):\n",
        "    print('With in range')\n",
        "  else:\n",
        "    print('Outside in range')\n",
        "n=int(input('Give a Number : '))\n",
        "test_range(n)"
      ]
    }
  ]
}